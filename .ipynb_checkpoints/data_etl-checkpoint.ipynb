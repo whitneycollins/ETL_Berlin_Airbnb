{
 "cells": [
  {
   "cell_type": "code",
   "execution_count": 5,
   "metadata": {},
   "outputs": [],
   "source": [
    " # Dependencies\n",
    "from bs4 import BeautifulSoup\n",
    "import requests\n",
    "import pymongo\n",
    "import csv\n",
    "from pymongo import MongoClient\n",
    "\n"
   ]
  },
  {
   "cell_type": "code",
   "execution_count": 6,
   "metadata": {},
   "outputs": [],
   "source": [
    "# Initialize PyMongo to work with MongoDBs\n",
    "conn = 'mongodb://localhost:27017'\n",
    "client = pymongo.MongoClient(conn)"
   ]
  },
  {
   "cell_type": "code",
   "execution_count": 7,
   "metadata": {},
   "outputs": [],
   "source": [
    " # Define database and collection\n",
    "db = client.BerlinAirbnb\n",
    "collection = db.items"
   ]
  },
  {
   "cell_type": "code",
   "execution_count": 11,
   "metadata": {},
   "outputs": [],
   "source": [
    "#CSV to JSON Conversion\n",
    "#listing.csv\n",
    "listing = open('listings.csv', 'r')\n",
    "reader = csv.DictReader( listing)\n",
    "mongo_client=MongoClient() \n",
    "db=mongo_client.BerlinAirbnb\n",
    "db.listing.drop()\n",
    "header= [ \"id\", \"name\", \"neighbourhood\", \"latitude\", \"longitude\", \"number_of_reviews\"]\n",
    "\n"
   ]
  },
  {
   "cell_type": "code",
   "execution_count": 11,
   "metadata": {},
   "outputs": [],
   "source": [
    "#creating a collection of listings\n",
    "for each in reader:\n",
    "    row={}\n",
    "    for field in header:\n",
    "        row[field]=each[field]\n",
    "\n",
    "    db.listing.insert_one(row)"
   ]
  },
  {
   "cell_type": "code",
   "execution_count": 21,
   "metadata": {},
   "outputs": [],
   "source": [
    "#simplified review collection\n",
    "review_only = open('reviews_summary.csv', 'r')\n",
    "reader1 = csv.DictReader(review_only)\n",
    "mongo_client=MongoClient() \n",
    "db=mongo_client.BerlinAirbnb\n",
    "db.review_only.drop()\n",
    "header= [ \"listing_id\", \"comments\"]\n"
   ]
  },
  {
   "cell_type": "code",
   "execution_count": 22,
   "metadata": {},
   "outputs": [],
   "source": [
    "#creating a collection of reviews\n",
    "for each in reader1:\n",
    "    row={}\n",
    "    for field in header:\n",
    "        row[field]=each[field]\n",
    "\n",
    "    db.review_only.insert_one(row)"
   ]
  },
  {
   "cell_type": "code",
   "execution_count": 12,
   "metadata": {},
   "outputs": [],
   "source": [
    "#CSV to JSON Conversion\n",
    "#reviews_summary.csv\n",
    "reviews = open('reviews_summary.csv', 'r')\n",
    "reader1 = csv.DictReader(reviews)\n",
    "mongo_client=MongoClient() \n",
    "db=mongo_client.BerlinAirbnb\n",
    "db.reviews.drop()\n",
    "header= [ \"listing_id\", \"id\", \"date\", \"reviewer_id\", \"reviewer_name\", \"comments\"]\n",
    "\n"
   ]
  },
  {
   "cell_type": "code",
   "execution_count": 13,
   "metadata": {},
   "outputs": [],
   "source": [
    "#creating a collection of reviews\n",
    "for each in reader1:\n",
    "    row={}\n",
    "    for field in header:\n",
    "        row[field]=each[field]\n",
    "\n",
    "    db.reviews.insert_one(row)"
   ]
  },
  {
   "cell_type": "code",
   "execution_count": 14,
   "metadata": {},
   "outputs": [],
   "source": [
    "##Line of attempted queries\n",
    "\n",
    "# db.segment.update_one(\n",
    "#     {'id':'2015'},\n",
    "#         {'$set': \n",
    "#             {'comments': [{\"review_name\":\"jane\", \"review_text\":\"text1\"},{\"review_name\":\"bob\", \"review_text\":\"text2\"}]}\n",
    "#         }\n",
    "    \n",
    "# )\n",
    "\n",
    "\n",
    "\n",
    "##many attempts were made to try ot solve this part\n",
    "\n",
    "\n",
    "# ##Open mongodb connection:\n",
    "# #db = pymongo.MongoClient()\n",
    "\n",
    "# ##Query old documents without ObjectIds:\n",
    "# old_dict = db.old.segment.find({},{\"listing_id\":0})\n",
    "\n",
    "# ##Run old documents through aggregation framework:\n",
    "# new_dict =  aggregate(old_dict)\n",
    "\n",
    "# ##Insert aggregated documents into new mongodb collection:\n",
    "# for i in new_dict:\n",
    "#    db.new.reviews.insert({i:new_dict[i]})\n",
    "\n",
    "# ##Close mongodb connection:\n",
    "# # db.close()"
   ]
  },
  {
   "cell_type": "code",
   "execution_count": 15,
   "metadata": {},
   "outputs": [],
   "source": [
    "# #another attempt\n",
    "# # must convert returned cursor to list for doing your task in for loop:\n",
    "# from operator import itemgetter\n",
    "# #using itemgetter \n",
    "# for doc in db.listing.find():\n",
    "#     listing_id = map(itemgetter(doc[\"id\"]),\n",
    "#                      list(db.reviews.find({\"listing_id\": listing_id})))\n",
    "    \n",
    "#     db.listing.update_many({\"id\":listing_id},\n",
    "#                           {'$set':{\"reviews\":comments}}\n",
    "#                          )\n",
    "        "
   ]
  },
  {
   "cell_type": "code",
   "execution_count": 1,
   "metadata": {},
   "outputs": [],
   "source": [
    "# for doc in db.listing.find():\n",
    "#       print(doc[\"id\"])\n",
    "#     listing_id = doc[\"id\"]\n",
    "#     reviews = db.reviews.find({\"listing_id\": listing_id})\n",
    "#     db.listing.update_many({\"id\":listing_id},\n",
    "#                           {'$set':{\"reviews\":reviews}}\n",
    "#                          )"
   ]
  },
  {
   "cell_type": "code",
   "execution_count": 17,
   "metadata": {},
   "outputs": [],
   "source": [
    "# # reviews.listing_id = []\n",
    "# # print(reviews.listing_id)\n",
    "# for listing_id, reviews in comments.items():\n",
    "#     db.reviews.update_one({'listing_id': listing_id},\n",
    "#                                 {'$set': {reviews.keys()[0]: reviews.values()[0]}}, \n",
    "#                                 upsert=True)"
   ]
  },
  {
   "cell_type": "code",
   "execution_count": 26,
   "metadata": {},
   "outputs": [],
   "source": [
    "# ##mongo shell query\n",
    "# [\n",
    "#     {\n",
    "#         '$lookup': {\n",
    "#             'from': 'listing', \n",
    "#             'localField': 'id', \n",
    "#             'foreignField': 'lisitng_id', \n",
    "#             'as': 'comments'\n",
    "#         }\n",
    "#     }, {}\n",
    "# ]"
   ]
  },
  {
   "cell_type": "code",
   "execution_count": 27,
   "metadata": {},
   "outputs": [],
   "source": [
    "##mongo shell query\n",
    "# db.reviews.aggregate[\n",
    "#     {\n",
    "#         '$group': {\n",
    "#             '_id': '$listing_id', \n",
    "#             'comments': {\n",
    "#                 '$push': '$comments'\n",
    "#             }\n",
    "#         }\n",
    "#     }\n",
    "# ]"
   ]
  },
  {
   "cell_type": "markdown",
   "metadata": {},
   "source": []
  },
  {
   "cell_type": "code",
   "execution_count": null,
   "metadata": {},
   "outputs": [],
   "source": []
  },
  {
   "cell_type": "code",
   "execution_count": null,
   "metadata": {},
   "outputs": [],
   "source": []
  },
  {
   "cell_type": "code",
   "execution_count": null,
   "metadata": {},
   "outputs": [],
   "source": []
  }
 ],
 "metadata": {
  "kernelspec": {
   "display_name": "Python [conda env:PythonData] *",
   "language": "python",
   "name": "conda-env-PythonData-py"
  },
  "language_info": {
   "codemirror_mode": {
    "name": "ipython",
    "version": 3
   },
   "file_extension": ".py",
   "mimetype": "text/x-python",
   "name": "python",
   "nbconvert_exporter": "python",
   "pygments_lexer": "ipython3",
   "version": "3.6.8"
  }
 },
 "nbformat": 4,
 "nbformat_minor": 2
}
